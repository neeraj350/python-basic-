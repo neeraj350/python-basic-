{
 "cells": [
  {
   "cell_type": "markdown",
   "id": "b67cddb0-85b5-469c-9ea4-db4c6fe32a59",
   "metadata": {},
   "source": [
    "# Python Basics Questions"
   ]
  },
  {
   "cell_type": "markdown",
   "id": "e23eda93-927e-4e10-af91-b0e7ba472e75",
   "metadata": {},
   "source": [
    "### Q.1>> What is Python, and why is it popular ? "
   ]
  },
  {
   "cell_type": "code",
   "execution_count": null,
   "id": "4a7a6579-8fc0-4eb9-8580-85996fe41565",
   "metadata": {},
   "outputs": [],
   "source": [
    "# Ans.1>> Python is a high-level, interpreted programming language known for its simplicity, readability, and versatility.\n",
    "# It is widely used in fields like web development, data science, automation, and machine learning.\n",
    "# Python’s popularity comes from its easy-to-learn syntax, large standard library, cross-platform support, and strong community. \n",
    "# It is also in high demand due to its applications in emerging technologies and data-driven industries."
   ]
  },
  {
   "cell_type": "markdown",
   "id": "78ed8134-4298-46e0-b2b6-5b46bcd35579",
   "metadata": {},
   "source": [
    "### Q.2>>  What is an interpreter in Python ? "
   ]
  },
  {
   "cell_type": "code",
   "execution_count": null,
   "id": "72d1240c-3ed1-4d44-8fdd-82c0f7967a30",
   "metadata": {},
   "outputs": [],
   "source": [
    "# Ans.2>> An **interpreter** in Python is a program that reads and executes Python code line by line. \n",
    "# It converts the high-level Python code into machine-readable instructions that the computer can understand.\n",
    "# Unlike compilers, which translate the entire code before execution, the interpreter processes the code during runtime. \n",
    "# This allows for quicker testing and debugging. Python’s interpreter is typically invoked by running a `.py` script or through an interactive shell."
   ]
  },
  {
   "cell_type": "markdown",
   "id": "e1663560-0807-4056-9c1d-d0bc22a52730",
   "metadata": {},
   "source": [
    "### Q.3>>  What are pre-defined keywords in Python ?"
   ]
  },
  {
   "cell_type": "code",
   "execution_count": null,
   "id": "c6b01eee-c0cc-4ff7-81c3-afab5147e631",
   "metadata": {},
   "outputs": [],
   "source": [
    "# Ans.3>> Pre-defined keywords in Python are reserved words that have special meaning and cannot be used as identifiers (e.g., variable names).\n",
    "# These keywords define the syntax and structure of the Python language, such as `if`, `else`, `for`, `while`, and `def`.\n",
    "# They are part of the Python language's core functionality. You can view all keywords using the `keyword` module."
   ]
  },
  {
   "cell_type": "markdown",
   "id": "c37946b7-ebc1-4d62-abc9-461f5cc2f028",
   "metadata": {},
   "source": [
    "### Q.4>>  Can keywords be used as variable names ? "
   ]
  },
  {
   "cell_type": "code",
   "execution_count": null,
   "id": "2cb38864-feaa-4e19-8a2f-ce2aa38929db",
   "metadata": {},
   "outputs": [],
   "source": [
    "# Ans.4>> No, keywords cannot be used as variable names in Python. They are reserved words that have a predefined meaning in the language's syntax, \n",
    "# such as `if`, `while`, `for`, and `class`. Using them as variable names would cause a syntax error, as Python would be unable\n",
    "# to differentiate between the keyword's intended use and a variable. To avoid this, Python enforces rules that prevent keywords\n",
    "# from being used as identifiers. You can view a list of keywords using the `keyword` module."
   ]
  },
  {
   "cell_type": "markdown",
   "id": "1bc52172-8007-4d9a-8abf-db3b2591b069",
   "metadata": {},
   "source": [
    "### Q.5> What is mutability in Python ?> "
   ]
  },
  {
   "cell_type": "code",
   "execution_count": null,
   "id": "532f4bef-3d89-430b-9c77-3dcd362a4115",
   "metadata": {},
   "outputs": [],
   "source": [
    "# Ans.5>> In Python, mutability refers to the ability of an object to be changed after it is created.\n",
    "# Mutable objects, like lists and dictionaries, allow their contents to be modified. \n",
    "# Immutable objects, like strings and tuples, cannot have their values altered once created. \n",
    "# The distinction is important for performance and behavior in functions, especially with regard to passing arguments.\n",
    "# Understanding mutability helps avoid unintended side effects in code."
   ]
  },
  {
   "cell_type": "markdown",
   "id": "d081204b-e5f8-457d-a87f-06770e375927",
   "metadata": {},
   "source": [
    "### Q.6>  Why are lists mutable, but tuples are immutable ?\r"
   ]
  },
  {
   "cell_type": "code",
   "execution_count": null,
   "id": "7d33ed6f-35fe-480d-987d-5df52a79a8c4",
   "metadata": {},
   "outputs": [],
   "source": [
    "# Ans.6>> Lists are mutable in Python because they are designed to allow changes in their contents, such as adding, removing, or modifying elements.\n",
    "# This flexibility is useful for cases where data needs to be updated frequently. On the other hand, tuples are immutable because they are intended\n",
    "# to represent fixed collections of data that should not change after creation. The immutability of tuples provides performance benefits,\n",
    "# making them faster and more memory efficient. It also helps ensure data integrity, especially when used as keys in dictionaries.\n",
    "# The difference in mutability is based on the intended use cases and efficiency requirements of each type."
   ]
  },
  {
   "cell_type": "markdown",
   "id": "8e895b96-f757-4dde-892f-38610bccc67c",
   "metadata": {},
   "source": [
    "### Q.7>> What is the difference between “==” and “is” operators in Python ?\r"
   ]
  },
  {
   "cell_type": "code",
   "execution_count": null,
   "id": "e665aa0c-5254-4385-a11e-9e7d17ce5751",
   "metadata": {},
   "outputs": [],
   "source": [
    "# Ans.7>> In Python, `==` checks if the values of two objects are equal, meaning it compares the contents or data of the objects.\n",
    "# The `is` operator, however, checks if two objects refer to the same memory location, i.e., whether they are the exact same object.\n",
    "# While `==` can return `True` for two objects with identical values, `is` only returns `True` if they are the same object in memory. \n",
    "# `==` is used for value comparison, and `is` is used for identity comparison. It's important to use `is` when checking for object identity,\n",
    "# such as with `None`."
   ]
  },
  {
   "cell_type": "markdown",
   "id": "bd1f65f1-c995-4e4a-97af-50bb4c0fd9d4",
   "metadata": {},
   "source": [
    "### Q.8>>  What are logical operators in Python ?"
   ]
  },
  {
   "cell_type": "code",
   "execution_count": null,
   "id": "f2edb6a6-db28-4bf5-88c7-7fe0fbce272d",
   "metadata": {},
   "outputs": [],
   "source": [
    "# Ans.8>> Logical operators in Python are used to combine conditional statements and evaluate boolean expressions. The three main logical operators are:\n",
    "\n",
    "# 1. **`and`**: Returns `True` if both conditions are true.\n",
    "# 2. **`or`**: Returns `True` if at least one of the conditions is true.\n",
    "# 3. **`not`**: Reverses the boolean value of a condition (i.e., `True` becomes `False` and vice versa).\n",
    "\n",
    "# These operators allow you to build more complex conditions in control flow statements like `if` and `while`. \n",
    "# They help in making decisions based on multiple conditions."
   ]
  },
  {
   "cell_type": "markdown",
   "id": "3d554143-4445-4aa3-93a9-094046b09204",
   "metadata": {},
   "source": [
    "### Q.9>> What is type casting in Python ?"
   ]
  },
  {
   "cell_type": "code",
   "execution_count": null,
   "id": "4665b880-daf7-45f7-ba2e-e22cae94ab93",
   "metadata": {},
   "outputs": [],
   "source": [
    "# Ans.9>> Type casting in Python refers to converting one data type into another. This can be done using functions like `int()`, `float()`, `str()`, etc.\n",
    "# For example, converting a string `\"123\"` into an integer `123` using `int()`.\n",
    "# Implicit type casting happens automatically when Python converts data types (e.g., from `int` to `float`),\n",
    "# while explicit type casting requires the programmer to manually convert data types.\n",
    "# Type casting is useful for performing operations between different data types."
   ]
  },
  {
   "cell_type": "markdown",
   "id": "0586fe3c-9754-46ea-aced-67f004d1c4d2",
   "metadata": {},
   "source": [
    "### Q.10>> What is the difference between implicit and explicit type casting ?\n",
    "\n",
    "\n",
    "\n"
   ]
  },
  {
   "cell_type": "code",
   "execution_count": null,
   "id": "1554f34d-817e-4d3c-a7ba-7b2b7e05f914",
   "metadata": {},
   "outputs": [],
   "source": [
    "# Ans.10>> Implicit type casting (also known as type coercion) happens automatically when the compiler converts one data type to another without\n",
    "# explicit instruction. It ensures compatibility, like converting `int` to `float` in arithmetic operations.  \n",
    "# Explicit type casting (or type conversion), on the other hand, requires manual intervention by the programmer, using casting operators. For example# , `(float) x` forces an integer `x` into a floating-point type.  # \n",
    "# In short, implicit casting is automatic, while explicit casting is deliberate and programmer-defined!\n",
    "\n"
   ]
  },
  {
   "cell_type": "markdown",
   "id": "85341556-cec3-4c02-b23d-1ba170db8991",
   "metadata": {},
   "source": [
    "### Q.11>>  What is the purpose of conditional statements in Python ?"
   ]
  },
  {
   "cell_type": "code",
   "execution_count": null,
   "id": "13352f22-af2d-4c88-a395-543dddb31563",
   "metadata": {},
   "outputs": [],
   "source": [
    "# Ans.11>> Conditional statements in Python are used to make decisions based on certain conditions. \n",
    "# They allow the program to execute different blocks of code depending on whether a condition is true or false.\n",
    "# The primary conditional statements are `if`, `elif`, and `else`. These help control the flow of the program by testing conditions and running\n",
    "# specific code accordingly. Conditional statements enable flexibility in programming,\n",
    "# allowing different outcomes based on varying inputs or situations."
   ]
  },
  {
   "cell_type": "markdown",
   "id": "56927169-8818-46c9-aebf-aef92aeeb41e",
   "metadata": {},
   "source": [
    "### Q.12>>  How does the elif statement work ?\r"
   ]
  },
  {
   "cell_type": "code",
   "execution_count": null,
   "id": "69dc95b2-5df2-43ba-9cc7-74a563d7fd99",
   "metadata": {},
   "outputs": [],
   "source": [
    "# Ans.12>> The `elif` statement in Python stands for \"else if\" and is used to check multiple conditions in sequence. \n",
    "# It follows an `if` statement and is used when you want to test additional conditions if the initial `if` condition is false.\n",
    "# If the `if` condition fails, Python checks the conditions in the `elif` blocks one by one.\n",
    "# Once an `elif` condition evaluates to `True`, its corresponding block of code is executed, and the rest of the conditions are ignored.\n",
    "#If none of the `if` or `elif` conditions are true, the `else` block, if present, will execute.\n",
    "# The `elif` provides a way to check for multiple conditions without using multiple nested `if` statements."
   ]
  },
  {
   "cell_type": "markdown",
   "id": "f1fa7b3c-2a37-4c54-a7a4-47d72e1ffcf6",
   "metadata": {},
   "source": [
    "### Q.13>>  What is the difference between for and while loops ?"
   ]
  },
  {
   "cell_type": "code",
   "execution_count": null,
   "id": "dcd5110c-1f66-459f-8e27-c8f958f56745",
   "metadata": {},
   "outputs": [],
   "source": [
    "# Ans.13>> The main difference between `for` and `while` loops in Python lies in how they control the loop execution. \n",
    "\n",
    "# 1. A `for` loop is typically used when you know the number of iterations beforehand, such as iterating over a range or a sequence.\n",
    "# 2. A `while` loop runs as long as a specified condition is true, and the number of iterations is not necessarily predetermined.\n",
    "# 3. The `for` loop is ideal for iterating through items like lists or ranges.\n",
    "# 4. The `while` loop is useful when the stopping condition depends on dynamic factors that are checked during each iteration.\n",
    "# 5. `for` loops tend to be more concise for fixed repetitions, while `while` loops offer more flexibility in controlling iteration.\n",
    "\n"
   ]
  },
  {
   "cell_type": "markdown",
   "id": "e8e37d4a-b4f7-44ee-bfe0-eafc433a4165",
   "metadata": {},
   "source": [
    "### Q.14>>  Describe a scenario where a while loop is more suitable than a for loop ?"
   ]
  },
  {
   "cell_type": "code",
   "execution_count": null,
   "id": "04668495-a608-4aae-8f18-07a59c06b20c",
   "metadata": {},
   "outputs": [],
   "source": [
    "# Ans.14>> A `while` loop is more suitable when the number of iterations is not known in advance and depends on a dynamic condition.\n",
    "# For example, consider a scenario where you want to repeatedly ask a user to enter a valid password until they do so.\n",
    "# You don't know how many attempts it will take, so a `while` loop is ideal because it will continue executing until the user provides\n",
    "# the correct password.\n",
    "\n",
    "# ```python\n",
    "# password = \"\"\n",
    "# while password != \"secure123\":\n",
    "#    password = input(\"Enter the password: \")\n",
    "# print(\"Access granted!\")\n",
    "#  ```\n",
    "\n",
    "# In this case, the loop continues until the user meets the condition, making a `while` loop the best choice."
   ]
  },
  {
   "cell_type": "markdown",
   "id": "faa89db2-de75-42e2-a890-66fe42e935b3",
   "metadata": {},
   "source": [
    "# >> Practical Questions"
   ]
  },
  {
   "cell_type": "markdown",
   "id": "5ee8f32f-6ee4-4520-bc03-27df771532a3",
   "metadata": {},
   "source": [
    "### Q.1>>  Write a Python program to print \"Hello, World!\" ?"
   ]
  },
  {
   "cell_type": "code",
   "execution_count": null,
   "id": "61550343-c93c-4f21-8ab2-5e7f1dba0ac4",
   "metadata": {},
   "outputs": [],
   "source": [
    "# Ans.1>> \n",
    "print(\"Hello,World!\")"
   ]
  },
  {
   "cell_type": "markdown",
   "id": "8f9bfc13-4fc6-44c1-a33e-eb4f05ae32ac",
   "metadata": {},
   "source": [
    "### Q.2>>  Write a Python program that displays your name and age ?"
   ]
  },
  {
   "cell_type": "code",
   "execution_count": null,
   "id": "f51b7b4c-4c6e-4bcb-b390-a8f19e960994",
   "metadata": {},
   "outputs": [],
   "source": [
    "# Ans.2>> \n",
    "Name= \" Niraj_singh\"\n",
    "age= 31\n",
    "print(Name)\n",
    "print(age)\n"
   ]
  },
  {
   "cell_type": "markdown",
   "id": "d8398a98-e7ba-4127-a65e-3b5debaee577",
   "metadata": {},
   "source": [
    "### Q.3>>  Write code to print all the pre-defined keywords in Python using the keyword library."
   ]
  },
  {
   "cell_type": "code",
   "execution_count": null,
   "id": "acda818e-1eb0-4e88-a828-080d1acb91c0",
   "metadata": {},
   "outputs": [],
   "source": [
    "# Ans.3>> \n",
    "import keyword\n",
    "\n",
    "# Print all Python keywords\n",
    "print(\"Python Keywords:\")\n",
    "print(keyword.kwlist)\n"
   ]
  },
  {
   "cell_type": "markdown",
   "id": "afc61c15-5ed7-472c-bfab-739990985484",
   "metadata": {},
   "source": [
    "### Q.4>> : Write a program that checks if a given word is a Python keyword ?st)\r\n"
   ]
  },
  {
   "cell_type": "markdown",
   "id": "491a9a21-16c9-4195-ae02-b2a692ef1a2b",
   "metadata": {},
   "source": [
    "# Ans.4>> \n",
    "import keyword\n",
    "\n",
    "# Input the word to check\n",
    "word = input(\"Enter a word: \")\n",
    "\n",
    "# Check if the word is a Python keyword\n",
    "if keyword.iskeyword(word):\n",
    "    print(f\"'{word}' is a Python keyword.\")\n",
    "else:\n",
    "    print(f\"'{word}' is not a Python keyword.\")\n"
   ]
  },
  {
   "cell_type": "markdown",
   "id": "5f2693e4-b167-4c3a-856b-4456d7fe3989",
   "metadata": {},
   "source": [
    "### Q.5>> Create a list and tuple in Python, and demonstrate how attempting to change an element works differently\r",
    "          \n",
    "for eac ?0"
   ]
  },
  {
   "cell_type": "code",
   "execution_count": null,
   "id": "fba226ad-0976-4bc5-89da-4a42b1f33863",
   "metadata": {},
   "outputs": [],
   "source": [
    "# Ans.5>>\n",
    "# List Example\n",
    "my_list = [1, 2, 3]\n",
    "my_list[0] = 10  # Changing element of list\n",
    "print(\"Updated List:\", my_list)\n",
    "\n",
    "# Tuple Example\n",
    "my_tuple = (1, 2, 3)\n",
    "try:\n",
    "    my_tuple[0] = 10  # Attempting to change element of tuple\n",
    "except TypeError as e:\n",
    "    print(\"Error:\", e)\n"
   ]
  },
  {
   "cell_type": "markdown",
   "id": "26feeee5-e95c-4a9c-8486-17ca7599b9f7",
   "metadata": {},
   "source": [
    "### Q.6>>  Write a function to demonstrate the behavior of mutable and immutable arguments ?"
   ]
  },
  {
   "cell_type": "code",
   "execution_count": null,
   "id": "e141185f-d554-4563-915b-b43f645d098b",
   "metadata": {},
   "outputs": [],
   "source": [
    "# Ans.6>>\n",
    "def demo_mutable_immutable(mutable, immutable):\n",
    "    mutable[0] = 99  # Modify mutable argument (list)\n",
    "    try:\n",
    "        immutable[0] = 99  # Try modifying immutable argument (tuple)\n",
    "    except TypeError as e:\n",
    "        print(\"Error with immutable:\", e)\n",
    "\n",
    "# Test the function\n",
    "demo_mutable_immutable([1, 2], (1, 2))\n"
   ]
  },
  {
   "cell_type": "markdown",
   "id": "d33c0a3c-df37-4bf5-b839-d760ceba2e66",
   "metadata": {},
   "source": [
    "### Q.7>>  Write a function to demonstrate the behavior of mutable and immutable arguments ?"
   ]
  },
  {
   "cell_type": "code",
   "execution_count": null,
   "id": "dcf1166e-58b6-4daa-a154-165f8a13c075",
   "metadata": {},
   "outputs": [],
   "source": [
    "# Ans.7>>\n",
    "def test_mutable_immutable(mutable, immutable):\n",
    "    mutable.append(4)  # Modify mutable argument (list)\n",
    "    try:\n",
    "        immutable += (4,)  # Try modifying immutable argument (tuple)\n",
    "    except TypeError as e:\n",
    "        print(\"Error:\", e)\n",
    "\n",
    "# Test the function\n",
    "test_mutable_immutable([1, 2, 3], (1, 2, 3))\n"
   ]
  },
  {
   "cell_type": "markdown",
   "id": "1993e4e1-1341-4c91-8ee8-9db6905f2528",
   "metadata": {},
   "source": [
    "### Q.8>>  Write a program to demonstrate the use of logical operators ?"
   ]
  },
  {
   "cell_type": "code",
   "execution_count": null,
   "id": "4a92b82a-2f72-4708-9fa3-26e5b2813d79",
   "metadata": {},
   "outputs": [],
   "source": [
    "# Ans.8>> \n",
    "x = 10\n",
    "y = 5\n",
    "print(x > y and y > 0)  # True, both conditions are true\n",
    "print(x > y or y < 0)   # True, one condition is true\n",
    "print(not(x < y))       # True, negates the condition\n"
   ]
  },
  {
   "cell_type": "markdown",
   "id": "5b0a3968-889a-4130-af46-c66367fab3c2",
   "metadata": {},
   "source": [
    "### Q.9>> Write a Python program to convert user input from string to integer, float, and boolean types ?tion\r\n"
   ]
  },
  {
   "cell_type": "code",
   "execution_count": null,
   "id": "303f77b3-2eef-4918-9ad6-43f2d55d78d5",
   "metadata": {},
   "outputs": [],
   "source": [
    "# Ans.9>>\n",
    "user_input = input(\"Enter a value: \")\n",
    "int_value = int(user_input)\n",
    "float_value = float(user_input)\n",
    "bool_value = bool(user_input)\n",
    "print(int_value, float_value, bool_value)\n"
   ]
  },
  {
   "cell_type": "markdown",
   "id": "8494560e-311d-4c84-b77d-0518222e39c5",
   "metadata": {},
   "source": [
    "### Q.10>>  Write code to demonstrate type casting with list elements ?"
   ]
  },
  {
   "cell_type": "code",
   "execution_count": null,
   "id": "5cf39413-e408-4131-952c-9ffb45a7b358",
   "metadata": {},
   "outputs": [],
   "source": [
    "# Ans.10>> \n",
    " str_list = ['1', '2', '3']\n",
    "int_list = [int(x) for x in str_list]\n",
    "float_list = [float(x) for x in str_list]\n",
    "bool_list = [bool(int(x)) for x in str_list]\n",
    "print(int_list, float_list, bool_list)\n"
   ]
  },
  {
   "cell_type": "markdown",
   "id": "611a077b-4b26-4e32-9088-01dd7e2515bf",
   "metadata": {},
   "source": [
    "### Q.11>> Write a program that checks if a number is positive, negative, or zero ?"
   ]
  },
  {
   "cell_type": "code",
   "execution_count": null,
   "id": "5ef88b0e-4a5c-4fb4-b253-1edd2a18f994",
   "metadata": {},
   "outputs": [],
   "source": [
    "# Ans.11>> \n",
    " num = float(input(\"Enter a number: \"))\n",
    "if num > 0:\n",
    "    print(\"Positive\")\n",
    "elif num < 0:\n",
    "    print(\"Negative\")\n",
    "else:\n",
    "    print(\"Zero\")\n"
   ]
  },
  {
   "cell_type": "markdown",
   "id": "22c33ce9-c778-4566-9f25-39b2be1bf2b3",
   "metadata": {},
   "source": [
    "### Q.12>>   Write a for loop to print numbers from 1 to 10 ?"
   ]
  },
  {
   "cell_type": "code",
   "execution_count": null,
   "id": "d2874a86-3dce-4c20-977a-9aec48adc633",
   "metadata": {},
   "outputs": [],
   "source": [
    "# Ans.12>>\n",
    "for num in range(1, 11):\n",
    "    print(num)\n"
   ]
  },
  {
   "cell_type": "markdown",
   "id": "d0e236c2-c4ee-43ff-92af-c948b1fb9744",
   "metadata": {},
   "source": [
    "### Q.13>>  Write a Python program to find the sum of all even numbers between 1 and 50 ?"
   ]
  },
  {
   "cell_type": "code",
   "execution_count": null,
   "id": "1e3adc23-4005-45be-a30a-4a9d94bdf2d0",
   "metadata": {},
   "outputs": [],
   "source": [
    "# Ans.13>> \n",
    " sum_even = sum(range(2, 51, 2))\n",
    "print(sum_even)\n"
   ]
  },
  {
   "cell_type": "markdown",
   "id": "0786440b-c653-4f47-b4dc-54ec48322e71",
   "metadata": {},
   "source": [
    "### Q.14>>  Write a program to reverse a string using a while loop ?"
   ]
  },
  {
   "cell_type": "code",
   "execution_count": 1,
   "id": "6d7fa404-62ee-42a2-9505-8342374d1edc",
   "metadata": {},
   "outputs": [
    {
     "ename": "IndentationError",
     "evalue": "unexpected indent (1852912202.py, line 2)",
     "output_type": "error",
     "traceback": [
      "\u001b[1;36m  Cell \u001b[1;32mIn[1], line 2\u001b[1;36m\u001b[0m\n\u001b[1;33m    string = \"Hello\"\u001b[0m\n\u001b[1;37m    ^\u001b[0m\n\u001b[1;31mIndentationError\u001b[0m\u001b[1;31m:\u001b[0m unexpected indent\n"
     ]
    }
   ],
   "source": [
    "# Ans.14>>\n",
    " string = \"Hello\"\n",
    "reversed_string = \"\"\n",
    "i = len(string) - 1\n",
    "while i >= 0:\n",
    "    reversed_string += string[i]\n",
    "    i -= 1\n",
    "print(reversed_string)\n"
   ]
  },
  {
   "cell_type": "markdown",
   "id": "a62e156a-2f26-447d-a184-919dc3f3a381",
   "metadata": {},
   "source": [
    "### Q.15>>  Write a Python program to calculate the factorial of a number provided by the user using a while loop ?"
   ]
  },
  {
   "cell_type": "code",
   "execution_count": 4,
   "id": "b8d19e7c-e30f-488f-9c93-6eeb67927f15",
   "metadata": {},
   "outputs": [
    {
     "ename": "IndentationError",
     "evalue": "unexpected indent (103602734.py, line 2)",
     "output_type": "error",
     "traceback": [
      "\u001b[1;36m  Cell \u001b[1;32mIn[4], line 2\u001b[1;36m\u001b[0m\n\u001b[1;33m    num = int(input(\"Enter a number: \"))\u001b[0m\n\u001b[1;37m    ^\u001b[0m\n\u001b[1;31mIndentationError\u001b[0m\u001b[1;31m:\u001b[0m unexpected indent\n"
     ]
    }
   ],
   "source": [
    "# Ans.15>> \n",
    " num = int(input(\"Enter a number: \"))\n",
    "factorial = 1\n",
    "while num > 0:\n",
    "    factorial *= num\n",
    "    num -= 1\n",
    "print(factorial)\n"
   ]
  },
  {
   "cell_type": "code",
   "execution_count": null,
   "id": "f4a3bf57-be8d-444e-8010-f3a6d10ebf9a",
   "metadata": {},
   "outputs": [],
   "source": []
  }
 ],
 "metadata": {
  "kernelspec": {
   "display_name": "Python 3 (ipykernel)",
   "language": "python",
   "name": "python3"
  },
  "language_info": {
   "codemirror_mode": {
    "name": "ipython",
    "version": 3
   },
   "file_extension": ".py",
   "mimetype": "text/x-python",
   "name": "python",
   "nbconvert_exporter": "python",
   "pygments_lexer": "ipython3",
   "version": "3.12.4"
  }
 },
 "nbformat": 4,
 "nbformat_minor": 5
}
